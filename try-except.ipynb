{
 "cells": [
  {
   "cell_type": "code",
   "execution_count": 10,
   "id": "8e8507db",
   "metadata": {},
   "outputs": [],
   "source": [
    "import requests as req\n",
    "from config import weather_api_key"
   ]
  },
  {
   "cell_type": "code",
   "execution_count": 11,
   "id": "23a633c3",
   "metadata": {},
   "outputs": [],
   "source": [
    "url = \"http://api.openweathermap.org/data/2.5/weather?units=Imperial&APPID=\" + weather_api_key"
   ]
  },
  {
   "cell_type": "code",
   "execution_count": 12,
   "id": "bb00054f",
   "metadata": {},
   "outputs": [],
   "source": [
    "cities = [\"Pittsburgh\", \"Austin\", \"New York\", \"Los Angeles\", \"Seattle\"]"
   ]
  },
  {
   "cell_type": "code",
   "execution_count": 18,
   "id": "3a28f56f",
   "metadata": {},
   "outputs": [
    {
     "name": "stdout",
     "output_type": "stream",
     "text": [
      "It is currently 64.65 degrees in Pittsburgh\n",
      "It is currently 81.43 degrees in Austin\n",
      "It is currently 53.87 degrees in New York\n",
      "It is currently 68.94 degrees in Los Angeles\n",
      "It is currently 52.93 degrees in Seattle\n"
     ]
    }
   ],
   "source": [
    "for city in cities:\n",
    "    try:\n",
    "        city_url = url +\"&q=\" + city\n",
    "        weather = req.get(city_url).json()\n",
    "        temp = weather['main']['temp']\n",
    "    except KeyError:\n",
    "        print('KeyError recieved for ' + city)\n",
    "        continue\n",
    "    print(\"It is currently \" + str(temp) +\" degrees in \" + city)"
   ]
  },
  {
   "cell_type": "code",
   "execution_count": 19,
   "id": "f557dc74",
   "metadata": {},
   "outputs": [
    {
     "name": "stdout",
     "output_type": "stream",
     "text": [
      "Requirement already satisfied: ipykernel in c:\\users\\vryne\\anaconda3\\envs\\pythondata\\lib\\site-packages (6.4.1)\n",
      "Collecting ipykernel\n",
      "  Downloading ipykernel-6.13.0-py3-none-any.whl (131 kB)\n",
      "Requirement already satisfied: jupyter-client>=6.1.12 in c:\\users\\vryne\\anaconda3\\envs\\pythondata\\lib\\site-packages (from ipykernel) (6.1.12)\n",
      "Requirement already satisfied: debugpy>=1.0 in c:\\users\\vryne\\anaconda3\\envs\\pythondata\\lib\\site-packages (from ipykernel) (1.4.1)\n",
      "Requirement already satisfied: traitlets>=5.1.0 in c:\\users\\vryne\\anaconda3\\envs\\pythondata\\lib\\site-packages (from ipykernel) (5.1.0)\n",
      "Requirement already satisfied: packaging in c:\\users\\vryne\\anaconda3\\envs\\pythondata\\lib\\site-packages (from ipykernel) (21.0)\n",
      "Requirement already satisfied: matplotlib-inline>=0.1 in c:\\users\\vryne\\anaconda3\\envs\\pythondata\\lib\\site-packages (from ipykernel) (0.1.2)\n",
      "Requirement already satisfied: ipython>=7.23.1 in c:\\users\\vryne\\anaconda3\\envs\\pythondata\\lib\\site-packages (from ipykernel) (7.29.0)\n",
      "Requirement already satisfied: nest-asyncio in c:\\users\\vryne\\anaconda3\\envs\\pythondata\\lib\\site-packages (from ipykernel) (1.5.1)\n",
      "Requirement already satisfied: tornado>=6.1 in c:\\users\\vryne\\anaconda3\\envs\\pythondata\\lib\\site-packages (from ipykernel) (6.1)\n",
      "Requirement already satisfied: psutil in c:\\users\\vryne\\anaconda3\\envs\\pythondata\\lib\\site-packages (from ipykernel) (5.8.0)\n",
      "Requirement already satisfied: colorama in c:\\users\\vryne\\anaconda3\\envs\\pythondata\\lib\\site-packages (from ipython>=7.23.1->ipykernel) (0.4.4)\n",
      "Requirement already satisfied: backcall in c:\\users\\vryne\\anaconda3\\envs\\pythondata\\lib\\site-packages (from ipython>=7.23.1->ipykernel) (0.2.0)\n",
      "Requirement already satisfied: setuptools>=18.5 in c:\\users\\vryne\\anaconda3\\envs\\pythondata\\lib\\site-packages (from ipython>=7.23.1->ipykernel) (58.0.4)\n",
      "Requirement already satisfied: pygments in c:\\users\\vryne\\anaconda3\\envs\\pythondata\\lib\\site-packages (from ipython>=7.23.1->ipykernel) (2.10.0)\n",
      "Requirement already satisfied: decorator in c:\\users\\vryne\\anaconda3\\envs\\pythondata\\lib\\site-packages (from ipython>=7.23.1->ipykernel) (5.1.0)\n",
      "Requirement already satisfied: prompt-toolkit!=3.0.0,!=3.0.1,<3.1.0,>=2.0.0 in c:\\users\\vryne\\anaconda3\\envs\\pythondata\\lib\\site-packages (from ipython>=7.23.1->ipykernel) (3.0.20)\n",
      "Requirement already satisfied: pickleshare in c:\\users\\vryne\\anaconda3\\envs\\pythondata\\lib\\site-packages (from ipython>=7.23.1->ipykernel) (0.7.5)\n",
      "Requirement already satisfied: jedi>=0.16 in c:\\users\\vryne\\anaconda3\\envs\\pythondata\\lib\\site-packages (from ipython>=7.23.1->ipykernel) (0.18.0)\n",
      "Requirement already satisfied: parso<0.9.0,>=0.8.0 in c:\\users\\vryne\\anaconda3\\envs\\pythondata\\lib\\site-packages (from jedi>=0.16->ipython>=7.23.1->ipykernel) (0.8.2)\n",
      "Requirement already satisfied: python-dateutil>=2.1 in c:\\users\\vryne\\anaconda3\\envs\\pythondata\\lib\\site-packages (from jupyter-client>=6.1.12->ipykernel) (2.8.2)\n",
      "Requirement already satisfied: pyzmq>=13 in c:\\users\\vryne\\anaconda3\\envs\\pythondata\\lib\\site-packages (from jupyter-client>=6.1.12->ipykernel) (22.2.1)\n",
      "Requirement already satisfied: jupyter-core>=4.6.0 in c:\\users\\vryne\\anaconda3\\envs\\pythondata\\lib\\site-packages (from jupyter-client>=6.1.12->ipykernel) (4.8.1)\n",
      "Requirement already satisfied: pywin32>=1.0 in c:\\users\\vryne\\anaconda3\\envs\\pythondata\\lib\\site-packages (from jupyter-core>=4.6.0->jupyter-client>=6.1.12->ipykernel) (227)\n",
      "Requirement already satisfied: wcwidth in c:\\users\\vryne\\anaconda3\\envs\\pythondata\\lib\\site-packages (from prompt-toolkit!=3.0.0,!=3.0.1,<3.1.0,>=2.0.0->ipython>=7.23.1->ipykernel) (0.2.5)\n",
      "Requirement already satisfied: six>=1.5 in c:\\users\\vryne\\anaconda3\\envs\\pythondata\\lib\\site-packages (from python-dateutil>=2.1->jupyter-client>=6.1.12->ipykernel) (1.16.0)\n",
      "Requirement already satisfied: pyparsing>=2.0.2 in c:\\users\\vryne\\anaconda3\\envs\\pythondata\\lib\\site-packages (from packaging->ipykernel) (3.0.4)\n",
      "Installing collected packages: ipykernel\n",
      "  Attempting uninstall: ipykernel\n",
      "    Found existing installation: ipykernel 6.4.1\n",
      "    Uninstalling ipykernel-6.4.1:\n",
      "      Successfully uninstalled ipykernel-6.4.1\n",
      "Successfully installed ipykernel-6.13.0\n",
      "Note: you may need to restart the kernel to use updated packages.\n"
     ]
    }
   ],
   "source": [
    "pip install --upgrade ipykernel\n"
   ]
  },
  {
   "cell_type": "code",
   "execution_count": 20,
   "id": "074597c8",
   "metadata": {},
   "outputs": [
    {
     "name": "stdout",
     "output_type": "stream",
     "text": [
      "^C\n",
      "\n",
      "Note: you may need to restart the kernel to use updated packages.\n"
     ]
    }
   ],
   "source": [
    "conda update conda"
   ]
  },
  {
   "cell_type": "code",
   "execution_count": null,
   "id": "a68f0ced",
   "metadata": {},
   "outputs": [],
   "source": []
  }
 ],
 "metadata": {
  "kernelspec": {
   "display_name": "PythonData",
   "language": "python",
   "name": "pythondata"
  },
  "language_info": {
   "codemirror_mode": {
    "name": "ipython",
    "version": 3
   },
   "file_extension": ".py",
   "mimetype": "text/x-python",
   "name": "python",
   "nbconvert_exporter": "python",
   "pygments_lexer": "ipython3",
   "version": "3.7.11"
  }
 },
 "nbformat": 4,
 "nbformat_minor": 5
}
